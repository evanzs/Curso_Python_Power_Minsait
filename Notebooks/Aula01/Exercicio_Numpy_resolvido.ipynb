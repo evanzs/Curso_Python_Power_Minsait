{
 "cells": [
  {
   "cell_type": "markdown",
   "id": "4bece3fc",
   "metadata": {},
   "source": [
    "# Exercício"
   ]
  },
  {
   "cell_type": "markdown",
   "id": "6d0f5db4",
   "metadata": {},
   "source": [
    "1. Crie um array NumPy unidimensional com os números de 1 a 10.\n",
    "   \n",
    "2. Crie um array NumPy bidimensional 3x3 preenchido com zeros.\n",
    "   \n",
    "3. Crie um array NumPy bidimensional 4x4 preenchido com uns.\n",
    "   \n",
    "4. Crie um array NumPy com 20 valores aleatórios entre 0 e 100.\n",
    "5. Crie um array NumPy unidimensional com espaçamento de 0.5 entre 0 e 10.\n",
    "6. Crie um array NumPy bidimensional 5x5 com valores aleatórios inteiros entre 1 e 100.\n",
    "7. Dada a matriz A = [[1, 2, 3], [4, 5, 6], [7, 8, 9]], crie um array NumPy contendo apenas a segunda coluna da matriz A.\n",
    "8. Dado o array NumPy x = [1, 2, 3, 4, 5], crie um novo array onde todos os valores pares sejam substituídos por -1.\n",
    "9.  Dado o array NumPy x = [1, 2, 3, 4, 5], crie um novo array onde todos os valores maiores que 2 sejam substituídos por 0.\n",
    "10. Dada a matriz A = [[1, 2], [3, 4]] e a matriz B = [[5, 6], [7, 8]], calcule a multiplicação matricial entre A e B.\n",
    "11. Dado o array NumPy x = [1, 2, 3], crie:\n",
    "    \n",
    "        a) Crie um novo array com os valores de x repetidos três vezes.\n",
    "        b) Crie um novo array com os valores de x repetidos lado a lado três vezes.\n",
    "        c) Crie um novo array com os valores de x repetidos verticalmente três vezes.\n",
    "        d) Inverta a ordem dos elementos do array.\n",
    "12. Considere o seguinte array bidimensional vendas representando as vendas de produtos em diferentes regiões ao longo de 5 anos, onde cada coluna é um ano e cada linha uam região:\n",
    "    \n",
    "            vendas = np.array([\n",
    "                [100, 150, 200, 120, 180],  # Região 1\n",
    "                [80, 120, 150, 100, 130],   # Região 2\n",
    "                [200, 180, 220, 190, 210],  # Região 3\n",
    "                [150, 160, 170, 140, 180],  # Região 4\n",
    "                [120, 110, 130, 90, 140]    # Região 5\n",
    "            ])\n",
    "\n",
    "        a) Calcule e exiba a média de vendas de cada região ao longo dos 5 anos.\n",
    "        b) Determine o ano (1, 2, 3, 4 ou 5) com o maior número de vendas para cada região e exiba os anos correspondentes.\n",
    "        c) Encontre e exiba a região com a menor média de vendas ao longo dos 5 anos.\n",
    "        d) Crie um novo array chamado vendas_lojas, contendo apenas as vendas das lojas nos últimos dois anos.\n",
    "        e) Usando o array vendas_lojas do item acima, calcule e exiba a média de vendas de cada loja nos últimos dois anos.\n",
    "13. Considere o seguinte array bidimensional notas representando as notas dos alunos em diferentes disciplinas ao longo de 3 trimestres:\n",
    "\n",
    "            notas = np.array([\n",
    "                [8, 7, 6],\n",
    "                [9, 8, 7],\n",
    "                [6, 5, 4],\n",
    "                [7, 6, 5],\n",
    "                [10, 9, 8]\n",
    "             ])\n",
    "    \n",
    "        a) Crie um novo array chamado aprovados que contenha apenas as notas dos alunos que foram aprovados em todas as disciplinas nos três trimestres (nota maior ou igual a 7).\n",
    "        b) Calcule e exiba a média das notas dos alunos aprovados em cada disciplina.\n",
    "        c) Determine quantos alunos foram aprovados em todas as disciplinas nos três trimestres."
   ]
  },
  {
   "cell_type": "code",
   "execution_count": 2,
   "id": "81e9acf2",
   "metadata": {},
   "outputs": [],
   "source": [
    "import numpy as np"
   ]
  },
  {
   "cell_type": "code",
   "execution_count": 5,
   "id": "93258976",
   "metadata": {},
   "outputs": [
    {
     "data": {
      "text/plain": [
       "array([ 1,  2,  3,  4,  5,  6,  7,  8,  9, 10])"
      ]
     },
     "execution_count": 5,
     "metadata": {},
     "output_type": "execute_result"
    }
   ],
   "source": [
    "# 1. Crie um array NumPy unidimensional com os números de 1 a 10.\n",
    "arr = np.arange(1,11)\n",
    "arr"
   ]
  },
  {
   "cell_type": "code",
   "execution_count": 8,
   "id": "3e93aebb",
   "metadata": {},
   "outputs": [
    {
     "data": {
      "text/plain": [
       "array([[0., 0., 0.],\n",
       "       [0., 0., 0.],\n",
       "       [0., 0., 0.]])"
      ]
     },
     "execution_count": 8,
     "metadata": {},
     "output_type": "execute_result"
    }
   ],
   "source": [
    "# 2. Crie um array NumPy bidimensional 3x3 preenchido com zeros.\n",
    "\n",
    "e2 = np.zeros([3,3])\n",
    "e2"
   ]
  },
  {
   "cell_type": "code",
   "execution_count": 15,
   "id": "a277d723",
   "metadata": {},
   "outputs": [
    {
     "data": {
      "text/plain": [
       "array([[1., 1., 1., 1.],\n",
       "       [1., 1., 1., 1.],\n",
       "       [1., 1., 1., 1.],\n",
       "       [1., 1., 1., 1.]])"
      ]
     },
     "execution_count": 15,
     "metadata": {},
     "output_type": "execute_result"
    }
   ],
   "source": [
    "#3. Crie um array NumPy bidimensional 4x4 preenchido com uns.\n",
    "\n",
    "e3 = np.ones([4,4])\n",
    "e3"
   ]
  },
  {
   "cell_type": "code",
   "execution_count": 39,
   "id": "f6d4c815",
   "metadata": {},
   "outputs": [
    {
     "name": "stdout",
     "output_type": "stream",
     "text": [
      "[0.05484287 0.71398392 0.76135811 0.01833216 0.57356264 0.49126673\n",
      " 0.53678442 0.62622493 0.05273971 0.4569879  0.72396334 0.04351858\n",
      " 0.2353036  0.28423165 0.68860699 0.40756524 0.83986764 0.49135816\n",
      " 0.14742037 0.70860948]\n",
      "[  0.           5.26315789  10.52631579  15.78947368  21.05263158\n",
      "  26.31578947  31.57894737  36.84210526  42.10526316  47.36842105\n",
      "  52.63157895  57.89473684  63.15789474  68.42105263  73.68421053\n",
      "  78.94736842  84.21052632  89.47368421  94.73684211 100.        ]\n"
     ]
    }
   ],
   "source": [
    "#4. Crie um array NumPy com 20 valores aleatórios entre 0 e 100.\n",
    "\n",
    "e4 = np.random.random((20,))\n",
    "\n",
    "e42 = np.linspace(0,100,20)\n",
    "\n",
    "print(e4)\n",
    "print(e42)"
   ]
  },
  {
   "cell_type": "code",
   "execution_count": 33,
   "id": "6783dd74",
   "metadata": {},
   "outputs": [
    {
     "data": {
      "text/plain": [
       "(4,)"
      ]
     },
     "execution_count": 33,
     "metadata": {},
     "output_type": "execute_result"
    }
   ],
   "source": [
    "e = np.array([1,2,3,4])\n",
    "e.shape"
   ]
  },
  {
   "cell_type": "code",
   "execution_count": 41,
   "id": "5eb0849e",
   "metadata": {},
   "outputs": [
    {
     "data": {
      "text/plain": [
       "array([0. , 0.5, 1. , 1.5, 2. , 2.5, 3. , 3.5, 4. , 4.5, 5. , 5.5, 6. ,\n",
       "       6.5, 7. , 7.5, 8. , 8.5, 9. , 9.5])"
      ]
     },
     "execution_count": 41,
     "metadata": {},
     "output_type": "execute_result"
    }
   ],
   "source": [
    "#5. Crie um array NumPy unidimensional com espaçamento de 0.5 entre 0 e 10.\n",
    "e5 = np.arange(0,10,0.5)\n",
    "e5"
   ]
  },
  {
   "cell_type": "code",
   "execution_count": 55,
   "id": "5a92c712",
   "metadata": {},
   "outputs": [
    {
     "data": {
      "text/plain": [
       "array([[ 5, 96, 54, 69, 94],\n",
       "       [61, 48, 25, 17,  8],\n",
       "       [70, 35, 74, 46, 68],\n",
       "       [99, 25, 85, 15, 69],\n",
       "       [41, 73, 23, 66, 77]])"
      ]
     },
     "execution_count": 55,
     "metadata": {},
     "output_type": "execute_result"
    }
   ],
   "source": [
    "# 6. Crie um array NumPy bidimensional 5x5 com valores aleatórios inteiros entre 1 e 100.\n",
    "np.random.randint(100,size=(5,5))"
   ]
  },
  {
   "cell_type": "code",
   "execution_count": 68,
   "id": "1f251079",
   "metadata": {},
   "outputs": [
    {
     "name": "stdout",
     "output_type": "stream",
     "text": [
      "[[1 2 3]\n",
      " [4 5 6]\n",
      " [7 8 9]] \n",
      "\n",
      "[3 6 9] \n",
      "\n",
      "[3 6 9] \n",
      "\n"
     ]
    }
   ],
   "source": [
    "# 7. Dada a matriz A = [[1, 2, 3], [4, 5, 6], [7, 8, 9]], crie um array NumPy contendo apenas a segunda coluna da matriz A.\n",
    "A = np.array([[1, 2, 3], [4, 5, 6], [7, 8, 9]])\n",
    "\n",
    "print(A,\"\\n\")\n",
    "\n",
    "print(A[:,2],\"\\n\")\n",
    "print(A[:,-1],\"\\n\")"
   ]
  },
  {
   "cell_type": "code",
   "execution_count": 75,
   "id": "143d541f",
   "metadata": {},
   "outputs": [
    {
     "data": {
      "text/plain": [
       "array([ 1, -1,  3, -1,  5])"
      ]
     },
     "execution_count": 75,
     "metadata": {},
     "output_type": "execute_result"
    }
   ],
   "source": [
    "#8. Dado o array NumPy x = [1, 2, 3, 4, 5], crie um novo array onde todos os valores pares sejam substituídos por -1.\n",
    "x = np.array([1, 2, 3, 4, 5])\n",
    "x[x%2 == 0] = -1\n",
    "x"
   ]
  },
  {
   "cell_type": "code",
   "execution_count": 76,
   "id": "25583488",
   "metadata": {},
   "outputs": [
    {
     "data": {
      "text/plain": [
       "array([1, 2, 0, 0, 0])"
      ]
     },
     "execution_count": 76,
     "metadata": {},
     "output_type": "execute_result"
    }
   ],
   "source": [
    "#9.  Dado o array NumPy x = [1, 2, 3, 4, 5], crie um novo array onde todos os valores maiores que 2 sejam substituídos por 0.\n",
    "x = np.array([1, 2, 3, 4, 5])\n",
    "x[x > 2] = 0\n",
    "x"
   ]
  },
  {
   "cell_type": "code",
   "execution_count": 79,
   "id": "72ab239f",
   "metadata": {},
   "outputs": [
    {
     "name": "stdout",
     "output_type": "stream",
     "text": [
      "[[19 22]\n",
      " [43 50]]\n",
      "[[19 22]\n",
      " [43 50]]\n"
     ]
    }
   ],
   "source": [
    "#10. Dada a matriz A = [[1, 2], [3, 4]] e a matriz B = [[5, 6], [7, 8]], calcule a multiplicação matricial entre A e B.\n",
    "A = np.array([[1, 2], [3, 4]])\n",
    "B = np.array([[5, 6], [7, 8]])\n",
    "print(A.dot(B))\n",
    "print(np.dot(A,B))"
   ]
  },
  {
   "cell_type": "code",
   "execution_count": 91,
   "id": "189a9db7",
   "metadata": {},
   "outputs": [
    {
     "name": "stdout",
     "output_type": "stream",
     "text": [
      "a:  [ 1  8 27]\n",
      "b:  [1 1 1 2 2 2 3 3 3]\n",
      "c:  [[1 2 3]\n",
      " [1 2 3]\n",
      " [1 2 3]]\n",
      "c:  [[1 2 3]\n",
      " [1 2 3]\n",
      " [1 2 3]]\n",
      "d:  [3 2 1]\n"
     ]
    }
   ],
   "source": [
    "#11. Dado o array NumPy x = [1, 2, 3], crie:    \n",
    "    # a) Crie um novo array com os valores de x repetidos três vezes.\n",
    "    # b) Crie um novo array com os valores de x repetidos lado a lado três vezes.\n",
    "    # c) Crie um novo array com os valores de x repetidos verticalmente três vezes.\n",
    "    # d) Inverta a ordem dos elementos do array.\n",
    "\n",
    "\n",
    "x = np.array([1, 2, 3])\n",
    "print(\"a: \", x ** 3)\n",
    "print(\"b: \", np.repeat(x,3))\n",
    "print(\"c: \", np.repeat(x,3).reshape(3,3).T)\n",
    "print(\"c: \", np.tile(x,(3,1)))\n",
    "print(\"d: \", np.flip(x))\n"
   ]
  },
  {
   "cell_type": "markdown",
   "id": "84ff45b4",
   "metadata": {},
   "source": [
    "12. Considere o seguinte array bidimensional vendas representando as vendas de produtos em diferentes regiões ao longo de 5 anos, onde cada coluna é um ano e cada linha uam região:\n",
    "    \n",
    "            vendas = np.array([\n",
    "                [100, 150, 200, 120, 180],  # Região 1\n",
    "                [80, 120, 150, 100, 130],   # Região 2\n",
    "                [200, 180, 220, 190, 210],  # Região 3\n",
    "                [150, 160, 170, 140, 180],  # Região 4\n",
    "                [120, 110, 130, 90, 140]    # Região 5\n",
    "            ])\n",
    "\n",
    "        a) Calcule e exiba a média de vendas de cada região ao longo dos 5 anos.\n",
    "        b) Determine o ano (1, 2, 3, 4 ou 5) com o maior número de vendas para cada região e exiba os anos correspondentes.\n",
    "        c) Encontre e exiba a região com a menor média de vendas ao longo dos 5 anos.\n",
    "        d) Crie um novo array chamado vendas_lojas, contendo apenas as vendas das lojas nos últimos dois anos.\n",
    "        e) Usando o array vendas_lojas do item acima, calcule e exiba a média de vendas de cada loja nos últimos dois anos."
   ]
  },
  {
   "cell_type": "code",
   "execution_count": 47,
   "id": "d7cf1a52",
   "metadata": {},
   "outputs": [
    {
     "name": "stdout",
     "output_type": "stream",
     "text": [
      "a:  média da regiao 1 750, media da regiao 2 580, media da regiao 3 1000\n",
      "b: \n",
      "região 0, valor: 200 e indeice 2\n",
      "região 1, valor: 150 e indeice 2\n",
      "região 2, valor: 220 e indeice 2\n",
      "região 3, valor: 180 e indeice 4\n",
      "região 4, valor: 140 e indeice 4\n",
      "\n",
      "c:  menor media: 116.0 e região: 1\n",
      "\n",
      "e: ultumas vendas:\n",
      "  [[120 180]\n",
      " [100 130]\n",
      " [190 210]\n",
      " [140 180]\n",
      " [ 90 140]]\n",
      "\n",
      "e:  menor media: 115.0 e região: 1\n"
     ]
    }
   ],
   "source": [
    "vendas = np.array([\n",
    "                [100, 150, 200, 120, 180],  \n",
    "                [80, 120, 150, 100, 130],   \n",
    "                [200, 180, 220, 190, 210],  \n",
    "                [150, 160, 170, 140, 180],  \n",
    "                [120, 110, 130, 90, 140]    \n",
    "            ])\n",
    "\n",
    "a = \"média da regiao 1 {}, media da regiao 2 {}, media da regiao 3 {}\"\\\n",
    "        .format(sum(vendas[0]),sum(vendas[1]),sum(vendas[2]))\n",
    "\n",
    "\n",
    "print(\"a: \",a)\n",
    "print(\"b: \")\n",
    "for i in range(len(vendas)): print(\"região {}, valor: {} e indeice {}\".format(i,vendas[i].max(),np.argmax(vendas[i])) )\n",
    "\n",
    "arrayMedias  = np.array([ np.mean(vendas[i]) for i in range(len(vendas))])\n",
    "print(\"\\nc: \",\"menor media: {} e região: {}\".format( arrayMedias.min(),np.argmin(arrayMedias)) )\n",
    "vendas_lojas = vendas[::,3:]\n",
    "print(\"\\ne: ultumas vendas:\\n \",vendas_lojas)\n",
    "arrayMedias  = np.array([ np.mean(vendas_lojas[i]) for i in range(len(vendas_lojas))])\n",
    "print(\"\\ne: \",\"menor media: {} e região: {}\".format( arrayMedias.min(),np.argmin(arrayMedias)) )\n"
   ]
  },
  {
   "cell_type": "code",
   "execution_count": 42,
   "id": "acad6ab5",
   "metadata": {},
   "outputs": [
    {
     "name": "stdout",
     "output_type": "stream",
     "text": [
      "[[100 150 200 120 180]\n",
      " [ 80 120 150 100 130]\n",
      " [200 180 220 190 210]\n",
      " [150 160 170 140 180]\n",
      " [120 110 130  90 140]]\n",
      "\n",
      "[[120 180]\n",
      " [100 130]\n",
      " [190 210]\n",
      " [140 180]\n",
      " [ 90 140]]\n"
     ]
    }
   ],
   "source": [
    "vendas_lojas = vendas[::,3:]\n",
    "print(vendas)\n",
    "print()\n",
    "print(vendas_lojas)"
   ]
  },
  {
   "cell_type": "markdown",
   "id": "b30136af",
   "metadata": {},
   "source": [
    "13. Considere o seguinte array bidimensional notas representando as notas dos alunos em diferentes disciplinas ao longo de 3 trimestres:\n",
    "\n",
    "            notas = np.array([\n",
    "                [8, 7, 6],\n",
    "                [9, 8, 7],\n",
    "                [6, 5, 4],\n",
    "                [7, 6, 5],\n",
    "                [10, 9, 8]\n",
    "             ])\n",
    "    \n",
    "        a) Crie um novo array chamado aprovados que contenha apenas as notas dos alunos que foram aprovados em todas as disciplinas nos três trimestres (nota maior ou igual a 7).\n",
    "        b) Calcule e exiba a média das notas dos alunos aprovados em cada disciplina.\n",
    "        c) Determine quantos alunos foram aprovados em todas as disciplinas nos três trimestres."
   ]
  },
  {
   "cell_type": "code",
   "execution_count": 51,
   "id": "2b261f5d",
   "metadata": {},
   "outputs": [
    {
     "name": "stdout",
     "output_type": "stream",
     "text": [
      "a: Aprovados:  [ 8  7  9  8  7  7 10  9  8]\n",
      "Media: 6 do aluno: 0 \n",
      "Media: 7 do aluno: 1 \n",
      "Media: 4 do aluno: 2 \n",
      "Media: 5 do aluno: 3 \n",
      "Media: 8 do aluno: 4 \n"
     ]
    }
   ],
   "source": [
    "notas = np.array([\n",
    "                [8, 7, 6],\n",
    "                [9, 8, 7],\n",
    "                [6, 5, 4],\n",
    "                [7, 6, 5],\n",
    "                [10, 9, 8]\n",
    "             ])\n",
    "\n",
    "aprovados = notas[notas>=7]\n",
    "print(\"a: Aprovados: \",aprovados)\n",
    "print(\"b: \\n\")\n",
    "for i in range(len(notas)) : print(\"Media: {} do aluno: {} \".format(notas[i].min(), i))\n",
    "\n",
    "\n",
    "result  = [ len(sub[sub>7]) for sub in notas]\n",
    "result = np.array(result)\n",
    "\n",
    "print(\"c: \", result )\n"
   ]
  },
  {
   "cell_type": "code",
   "execution_count": 60,
   "id": "43e0cc3d",
   "metadata": {},
   "outputs": [
    {
     "data": {
      "text/plain": [
       "3"
      ]
     },
     "execution_count": 60,
     "metadata": {},
     "output_type": "execute_result"
    }
   ],
   "source": [
    "result  = [ len(sub[sub>7]) for sub in notas]\n",
    "result = np.array(result)\n",
    "np.count_nonzero(result)"
   ]
  }
 ],
 "metadata": {
  "kernelspec": {
   "display_name": "Python 3 (ipykernel)",
   "language": "python",
   "name": "python3"
  },
  "language_info": {
   "codemirror_mode": {
    "name": "ipython",
    "version": 3
   },
   "file_extension": ".py",
   "mimetype": "text/x-python",
   "name": "python",
   "nbconvert_exporter": "python",
   "pygments_lexer": "ipython3",
   "version": "3.8.10"
  }
 },
 "nbformat": 4,
 "nbformat_minor": 5
}
