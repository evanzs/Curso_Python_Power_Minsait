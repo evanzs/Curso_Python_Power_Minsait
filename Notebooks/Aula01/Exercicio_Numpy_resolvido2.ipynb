{
 "cells": [
  {
   "cell_type": "markdown",
   "id": "4bece3fc",
   "metadata": {},
   "source": [
    "# Exercício"
   ]
  },
  {
   "cell_type": "markdown",
   "id": "6d0f5db4",
   "metadata": {},
   "source": [
    "1. Crie um array NumPy unidimensional com os números de 1 a 10.\n",
    "   \n",
    "2. Crie um array NumPy bidimensional 3x3 preenchido com zeros.\n",
    "   \n",
    "3. Crie um array NumPy bidimensional 4x4 preenchido com uns.\n",
    "   \n",
    "4. Crie um array NumPy com 20 valores aleatórios entre 0 e 100.\n",
    "5. Crie um array NumPy unidimensional com espaçamento de 0.5 entre 0 e 10.\n",
    "6. Crie um array NumPy bidimensional 5x5 com valores aleatórios inteiros entre 1 e 100.\n",
    "7. Dada a matriz A = [[1, 2, 3], [4, 5, 6], [7, 8, 9]], crie um array NumPy contendo apenas a segunda coluna da matriz A.\n",
    "8. Dado o array NumPy x = [1, 2, 3, 4, 5], crie um novo array onde todos os valores pares sejam substituídos por -1.\n",
    "9.  Dado o array NumPy x = [1, 2, 3, 4, 5], crie um novo array onde todos os valores maiores que 2 sejam substituídos por 0.\n",
    "10. Dada a matriz A = [[1, 2], [3, 4]] e a matriz B = [[5, 6], [7, 8]], calcule a multiplicação matricial entre A e B.\n",
    "11. Dado o array NumPy x = [1, 2, 3], crie:\n",
    "    \n",
    "        a) Crie um novo array com os valores de x repetidos três vezes.\n",
    "        b) Crie um novo array com os valores de x repetidos lado a lado três vezes.\n",
    "        c) Crie um novo array com os valores de x repetidos verticalmente três vezes.\n",
    "        d) Inverta a ordem dos elementos do array.\n",
    "12. Considere o seguinte array bidimensional vendas representando as vendas de produtos em diferentes regiões ao longo de 5 anos, onde cada coluna é um ano e cada linha uam região:\n",
    "    \n",
    "            vendas = np.array([\n",
    "                [100, 150, 200, 120, 180],  # Região 1\n",
    "                [80, 120, 150, 100, 130],   # Região 2\n",
    "                [200, 180, 220, 190, 210],  # Região 3\n",
    "                [150, 160, 170, 140, 180],  # Região 4\n",
    "                [120, 110, 130, 90, 140]    # Região 5\n",
    "            ])\n",
    "\n",
    "        a) Calcule e exiba a média de vendas de cada região ao longo dos 5 anos.\n",
    "        b) Determine o ano (1, 2, 3, 4 ou 5) com o maior número de vendas para cada região e exiba os anos correspondentes.\n",
    "        c) Encontre e exiba a região com a menor média de vendas ao longo dos 5 anos.\n",
    "        d) Crie um novo array chamado vendas_lojas, contendo apenas as vendas das lojas nos últimos dois anos.\n",
    "        e) Usando o array vendas_lojas do item acima, calcule e exiba a média de vendas de cada loja nos últimos dois anos.\n",
    "13. Considere o seguinte array bidimensional notas representando as notas dos alunos em diferentes disciplinas ao longo de 3 trimestres:\n",
    "\n",
    "            notas = np.array([\n",
    "                [8, 7, 6],\n",
    "                [9, 8, 7],\n",
    "                [6, 5, 4],\n",
    "                [7, 6, 5],\n",
    "                [10, 9, 8]\n",
    "             ])\n",
    "    \n",
    "        a) Crie um novo array chamado aprovados que contenha apenas as notas dos alunos que foram aprovados em todas as disciplinas nos três trimestres (nota maior ou igual a 7).\n",
    "        b) Calcule e exiba a média das notas dos alunos aprovados em cada disciplina.\n",
    "        c) Determine quantos alunos foram aprovados em todas as disciplinas nos três trimestres."
   ]
  },
  {
   "cell_type": "code",
   "execution_count": 2,
   "id": "6727a7dd",
   "metadata": {},
   "outputs": [],
   "source": [
    "import numpy as np"
   ]
  },
  {
   "cell_type": "code",
   "execution_count": 7,
   "id": "f87f54c6",
   "metadata": {},
   "outputs": [
    {
     "name": "stdout",
     "output_type": "stream",
     "text": [
      "[2 5 8]\n"
     ]
    }
   ],
   "source": [
    "# 7. Dada a matriz A = [[1, 2, 3], [4, 5, 6], [7, 8, 9]], crie um array NumPy contendo apenas a segunda coluna da matriz A.\n",
    "A = np.array([[1, 2, 3], [4, 5, 6], [7, 8, 9]])\n",
    "result = A[:, 1]\n",
    "print(result)"
   ]
  },
  {
   "cell_type": "code",
   "execution_count": 8,
   "id": "33610aae",
   "metadata": {},
   "outputs": [
    {
     "name": "stdout",
     "output_type": "stream",
     "text": [
      "Array com valores pares substituídos por -1: [ 1 -1  3 -1  5]\n"
     ]
    }
   ],
   "source": [
    "#8. Dado o array NumPy x = [1, 2, 3, 4, 5], crie um novo array onde todos os valores pares sejam substituídos por -1.\n",
    "\n",
    "x = np.array([1, 2, 3, 4, 5])\n",
    "novo_x = np.where(x % 2 == 0, -1, x)\n",
    "print(\"Array com valores pares substituídos por -1:\", novo_x)"
   ]
  },
  {
   "cell_type": "code",
   "execution_count": 10,
   "id": "459d5d4c",
   "metadata": {},
   "outputs": [
    {
     "name": "stdout",
     "output_type": "stream",
     "text": [
      "Array com valores maior que 2 substituídos por 0: [1 2 0 0 0]\n"
     ]
    }
   ],
   "source": [
    "# 9.  Dado o array NumPy x = [1, 2, 3, 4, 5], crie um novo array onde todos os valores maiores que 2 sejam substituídos por 0.\n",
    "x = np.array([1, 2, 3, 4, 5])\n",
    "novo_x = np.where(x > 2, 0, x)\n",
    "print(\"Array com valores maior que 2 substituídos por 0:\", novo_x)"
   ]
  },
  {
   "cell_type": "code",
   "execution_count": 12,
   "id": "45108e35",
   "metadata": {},
   "outputs": [
    {
     "name": "stdout",
     "output_type": "stream",
     "text": [
      "Multiplicação Matricial forma 1: \n",
      " [[19 22]\n",
      " [43 50]]\n",
      "Multiplicação Matricial forma 2: \n",
      " [[19 22]\n",
      " [43 50]]\n"
     ]
    }
   ],
   "source": [
    "# 10. Dada a matriz A = [[1, 2], [3, 4]] e a matriz B = [[5, 6], [7, 8]], calcule a multiplicação matricial entre A e B.\n",
    "\n",
    "A = np.array([[1, 2], [3, 4]])\n",
    "B = np.array([[5, 6], [7, 8]])\n",
    "\n",
    "print(\"Multiplicação Matricial forma 1: \\n\",np.dot(A,B))\n",
    "print(\"Multiplicação Matricial forma 2: \\n\",A.dot(B))"
   ]
  },
  {
   "cell_type": "markdown",
   "id": "0bec828d",
   "metadata": {},
   "source": [
    "11. Dado o array NumPy x = [1, 2, 3], crie:\n",
    "    \n",
    "        a) Crie um novo array com os valores de x repetidos três vezes.\n",
    "        b) Crie um novo array com os valores de x repetidos lado a lado três vezes.\n",
    "        c) Crie um novo array com os valores de x repetidos verticalmente três vezes.\n",
    "        d) Inverta a ordem dos elementos do array."
   ]
  },
  {
   "cell_type": "code",
   "execution_count": 24,
   "id": "5c695e9c",
   "metadata": {},
   "outputs": [
    {
     "name": "stdout",
     "output_type": "stream",
     "text": [
      "resposta item a:  [1 2 3 1 2 3 1 2 3]\n",
      "resposta item b:  [1 1 1 2 2 2 3 3 3]\n",
      "resposta item c:\n",
      " [[1 2 3]\n",
      " [1 2 3]\n",
      " [1 2 3]]\n",
      "resposta item d:  [3 2 1]\n"
     ]
    }
   ],
   "source": [
    "x = np.array([1, 2, 3])\n",
    "\n",
    "resultA = np.tile(x,3)\n",
    "resultB = np.repeat(x,3)\n",
    "resultC = np.tile(x,(3,1))\n",
    "resultD = np.flip(x)\n",
    "\n",
    "print(\"resposta item a: \", resultA)\n",
    "print(\"resposta item b: \", resultB)\n",
    "print(\"resposta item c:\\n\", resultC)\n",
    "print(\"resposta item d: \", resultD)\n"
   ]
  },
  {
   "cell_type": "markdown",
   "id": "48da93e7",
   "metadata": {},
   "source": [
    "12. Considere o seguinte array bidimensional vendas representando as vendas de produtos em diferentes regiões ao longo de 5 anos, onde cada coluna é um ano e cada linha uam região:\n",
    "    \n",
    "            vendas = np.array([\n",
    "                [100, 150, 200, 120, 180],  # Região 1\n",
    "                [80, 120, 150, 100, 130],   # Região 2\n",
    "                [200, 180, 220, 190, 210],  # Região 3\n",
    "                [150, 160, 170, 140, 180],  # Região 4\n",
    "                [120, 110, 130, 90, 140]    # Região 5\n",
    "            ])\n",
    "\n",
    "        a) Calcule e exiba a média de vendas de cada região ao longo dos 5 anos.\n",
    "        b) Determine o ano (1, 2, 3, 4 ou 5) com o maior número de vendas para cada região e exiba os anos correspondentes.\n",
    "        c) Encontre e exiba a região com a menor média de vendas ao longo dos 5 anos.\n",
    "        d) Crie um novo array chamado vendas_lojas, contendo apenas as vendas das lojas nos últimos dois anos.\n",
    "        e) Usando o array vendas_lojas do item acima, calcule e exiba a média de vendas de cada loja nos últimos dois anos."
   ]
  },
  {
   "cell_type": "code",
   "execution_count": 63,
   "id": "2d8e064d",
   "metadata": {},
   "outputs": [
    {
     "name": "stdout",
     "output_type": "stream",
     "text": [
      "a) medias por regiões:  [150. 116. 200. 160. 118.]\n",
      "\n",
      "b) Ano com o maior número de vendas para cada região:\n",
      "Região 1: Ano 3\n",
      "Região 2: Ano 3\n",
      "Região 3: Ano 3\n",
      "Região 4: Ano 5\n",
      "Região 5: Ano 5\n",
      "\n",
      "c) região 2 tem o menor valor:116.0 \n",
      "\n",
      "d)Vendas nos ultimos dois anos:\n",
      " [[100 150 200 120 180]\n",
      " [ 80 120 150 100 130]\n",
      " [200 180 220 190 210]\n",
      " [150 160 170 140 180]\n",
      " [120 110 130  90 140]]\n",
      "\n",
      "e) Média de vendas de cada loja nos últimos dois anos: [150. 116. 200. 160. 118.]\n"
     ]
    }
   ],
   "source": [
    "vendas = np.array([\n",
    "                [100, 150, 200, 120, 180],  # Região 1\n",
    "                [80, 120, 150, 100, 130],   # Região 2\n",
    "                [200, 180, 220, 190, 210],  # Região 3\n",
    "                [150, 160, 170, 140, 180],  # Região 4\n",
    "                [120, 110, 130, 90, 140]    # Região 5\n",
    "            ])\n",
    "\n",
    "\n",
    "media_regiao = np.mean(vendas, axis=1)\n",
    "print(\"a) medias por regiões: \",media_regiao)\n",
    "\n",
    "print(\"\\nb) Ano com o maior número de vendas para cada região:\")\n",
    "for i in range(len(vendas)):\n",
    "    ano_maior_vendas = np.argmax(vendas[i]) + 1  # Adicionando 1 pois os anos começam de 1\n",
    "    print(f\"Região {i+1}: Ano {ano_maior_vendas}\")\n",
    "\n",
    "mediaRegioes = [venda.mean() for venda in vendas]\n",
    "menorValorRegiao = np.array(mediaRegioes).min()\n",
    "minRegiao = np.argmin(mediaRegioes) + 1\n",
    "print(\"\\nc) região {} tem o menor valor:{} \".format(minRegiao,menorValorRegiao))\n",
    "\n",
    "vendas_lojas = vendas\n",
    "\n",
    "print(\"\\nd)Vendas nos ultimos dois anos:\\n\",vendas_lojas)\n",
    "\n",
    "\n",
    "media_vendas_lojas = np.mean(vendas_lojas, axis=1)\n",
    "print(\"\\ne) Média de vendas de cada loja nos últimos dois anos:\", media_vendas_lojas)"
   ]
  },
  {
   "cell_type": "markdown",
   "id": "f34c4d20",
   "metadata": {},
   "source": [
    "13. Considere o seguinte array bidimensional notas representando as notas dos alunos em diferentes disciplinas ao longo de 3 trimestres:\n",
    "\n",
    "            notas = np.array([\n",
    "                [8, 7, 6],\n",
    "                [9, 8, 7],\n",
    "                [6, 5, 4],\n",
    "                [7, 6, 5],\n",
    "                [10, 9, 8]\n",
    "             ])\n",
    "    \n",
    "        a) Crie um novo array chamado aprovados que contenha apenas as notas dos alunos que foram aprovados em todas as disciplinas nos três trimestres (nota maior ou igual a 7).\n",
    "        b) Calcule e exiba a média das notas dos alunos aprovados em cada disciplina.\n",
    "        c) Determine quantos alunos foram aprovados em todas as disciplinas nos três trimestres."
   ]
  },
  {
   "cell_type": "code",
   "execution_count": 66,
   "id": "be2262fd",
   "metadata": {},
   "outputs": [
    {
     "name": "stdout",
     "output_type": "stream",
     "text": [
      "[[ 8  7  6]\n",
      " [ 9  8  7]\n",
      " [ 6  5  4]\n",
      " [ 7  6  5]\n",
      " [10  9  8]]\n",
      "\n",
      "a) Notas dos alunos aprovados em todas as disciplinas:\n",
      " [[ 9  8  7]\n",
      " [10  9  8]]\n",
      "b) Média das notas dos alunos aprovados em cada disciplina: [9.5 8.5 7.5]\n",
      "c) Quantidade de alunos aprovados em todas as disciplinas: 2\n"
     ]
    }
   ],
   "source": [
    "notas = np.array([\n",
    "    [8, 7, 6],\n",
    "    [9, 8, 7],\n",
    "    [6, 5, 4],\n",
    "    [7, 6, 5],\n",
    "    [10, 9, 8]\n",
    "])\n",
    "\n",
    "aprovados = notas[(notas >= 7).all(axis=1)]\n",
    "media_aprovados = np.mean(aprovados, axis=0)\n",
    "quantidade_aprovados = len(aprovados)\n",
    "\n",
    "print(notas)\n",
    "print(\"\\na) Notas dos alunos aprovados em todas as disciplinas:\\n\", aprovados)\n",
    "print(\"b) Média das notas dos alunos aprovados em cada disciplina:\", media_aprovados)\n",
    "print(\"c) Quantidade de alunos aprovados em todas as disciplinas:\", quantidade_aprovados)\n"
   ]
  }
 ],
 "metadata": {
  "kernelspec": {
   "display_name": "Python 3 (ipykernel)",
   "language": "python",
   "name": "python3"
  },
  "language_info": {
   "codemirror_mode": {
    "name": "ipython",
    "version": 3
   },
   "file_extension": ".py",
   "mimetype": "text/x-python",
   "name": "python",
   "nbconvert_exporter": "python",
   "pygments_lexer": "ipython3",
   "version": "3.8.10"
  }
 },
 "nbformat": 4,
 "nbformat_minor": 5
}
